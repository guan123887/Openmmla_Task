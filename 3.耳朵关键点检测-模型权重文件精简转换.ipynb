{
 "cells": [
  {
   "attachments": {},
   "cell_type": "markdown",
   "id": "d428e1e5-5b7b-4e16-880c-bdb3d3d1f6e4",
   "metadata": {},
   "source": [
    "# 三角板关键点检测-模型权重文件精简转换\n",
    "\n",
    "同济子豪兄 2023-4-3 5-24\n",
    "\n",
    "经过精简转换之后，模型.pth权重文件大小缩小为原来的一半以上，但不影响推理结果和推理速度"
   ]
  },
  {
   "attachments": {},
   "cell_type": "markdown",
   "id": "06a39b7b-017c-4193-9387-dce43396f96c",
   "metadata": {
    "tags": []
   },
   "source": [
    "## 进入 mmpose 主目录"
   ]
  },
  {
   "cell_type": "code",
   "execution_count": 1,
   "id": "a1103085-107b-4ef7-9a04-cb2e5ce2a6f0",
   "metadata": {},
   "outputs": [],
   "source": [
    "import os\n",
    "os.chdir('../MMPOSE/mmpose')"
   ]
  },
  {
   "attachments": {},
   "cell_type": "markdown",
   "id": "8ee663cd-7c01-4693-b788-88b86672dcf9",
   "metadata": {},
   "source": [
    "## 模型精简转换"
   ]
  },
  {
   "cell_type": "code",
   "execution_count": 3,
   "id": "83e8f653-0f5d-46b1-85bb-f0e235badfba",
   "metadata": {},
   "outputs": [
    {
     "name": "stdout",
     "output_type": "stream",
     "text": [
      "06/14 22:13:39 - mmengine - \u001b[4m\u001b[97mINFO\u001b[0m - Key `message_hub` will be removed because it is not in save_keys. If you want to keep it, please set --save-keys.\n",
      "06/14 22:13:39 - mmengine - \u001b[4m\u001b[97mINFO\u001b[0m - Key `optimizer` will be removed because it is not in save_keys. If you want to keep it, please set --save-keys.\n",
      "06/14 22:13:39 - mmengine - \u001b[4m\u001b[97mINFO\u001b[0m - Key `param_schedulers` will be removed because it is not in save_keys. If you want to keep it, please set --save-keys.\n",
      "06/14 22:13:39 - mmengine - \u001b[4m\u001b[97mINFO\u001b[0m - Key `ema_state_dict` will be removed because it is not in save_keys. If you want to keep it, please set --save-keys.\n"
     ]
    },
    {
     "name": "stderr",
     "output_type": "stream",
     "text": [
      "Traceback (most recent call last):\n",
      "  File \"tools/misc/publish_model.py\", line 65, in <module>\n",
      "    main()\n",
      "  File \"tools/misc/publish_model.py\", line 61, in main\n",
      "    process_checkpoint(args.in_file, args.out_file, args.save_keys)\n",
      "  File \"tools/misc/publish_model.py\", line 48, in process_checkpoint\n",
      "    sha = subprocess.check_output(['sha256sum', out_file]).decode()\n",
      "  File \"d:\\miniconda\\envs\\openmmlab\\lib\\subprocess.py\", line 415, in check_output\n",
      "    return run(*popenargs, stdout=PIPE, timeout=timeout, check=True,\n",
      "  File \"d:\\miniconda\\envs\\openmmlab\\lib\\subprocess.py\", line 493, in run\n",
      "    with Popen(*popenargs, **kwargs) as process:\n",
      "  File \"d:\\miniconda\\envs\\openmmlab\\lib\\subprocess.py\", line 858, in __init__\n",
      "    self._execute_child(args, executable, preexec_fn, close_fds,\n",
      "  File \"d:\\miniconda\\envs\\openmmlab\\lib\\subprocess.py\", line 1311, in _execute_child\n",
      "    hp, ht, pid, tid = _winapi.CreateProcess(executable, args,\n",
      "FileNotFoundError: [WinError 2] 系统找不到指定的文件。\n"
     ]
    }
   ],
   "source": [
    "!python tools/misc/publish_model.py \\\n",
    "        work_dirs/rtmpose-s-ear/epoch_300.pth \\\n",
    "        checkpoint/rtmpose-s-ear-300.pth"
   ]
  },
  {
   "cell_type": "code",
   "execution_count": null,
   "id": "c48d0c2b-bdb1-4f63-9f0a-f485f37b1e4b",
   "metadata": {},
   "outputs": [],
   "source": []
  }
 ],
 "metadata": {
  "kernelspec": {
   "display_name": "Python 3 (ipykernel)",
   "language": "python",
   "name": "python3"
  },
  "language_info": {
   "codemirror_mode": {
    "name": "ipython",
    "version": 3
   },
   "file_extension": ".py",
   "mimetype": "text/x-python",
   "name": "python",
   "nbconvert_exporter": "python",
   "pygments_lexer": "ipython3",
   "version": "3.8.16"
  }
 },
 "nbformat": 4,
 "nbformat_minor": 5
}
