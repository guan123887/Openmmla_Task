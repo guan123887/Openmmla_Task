{
 "cells": [
  {
   "attachments": {},
   "cell_type": "markdown",
   "id": "ab3fbe6f-6d2f-4a00-abd4-04a486d98fd1",
   "metadata": {},
   "source": [
    "# 三角板目标检测-预测\n",
    "\n",
    "同济子豪兄 2023-4-4"
   ]
  },
  {
   "attachments": {},
   "cell_type": "markdown",
   "id": "b80f81bd-021e-4fc8-be2c-637e74b5e739",
   "metadata": {},
   "source": [
    "## 进入mmdetection主目录"
   ]
  },
  {
   "cell_type": "code",
   "execution_count": 1,
   "id": "c23edb0e-5239-4bd1-9b7c-90710eee37bd",
   "metadata": {},
   "outputs": [],
   "source": [
    "import os\n",
    "os.chdir('../MMDetection/mmdetection')"
   ]
  },
  {
   "attachments": {},
   "cell_type": "markdown",
   "id": "165bbef3-c3d3-49ad-8308-9c6c2ee691f0",
   "metadata": {},
   "source": [
    "## 目标检测预测-单张图像"
   ]
  },
  {
   "cell_type": "code",
   "execution_count": 3,
   "id": "b82b7b68-ff31-4b90-a005-d56d0e9416d0",
   "metadata": {
    "tags": []
   },
   "outputs": [
    {
     "name": "stdout",
     "output_type": "stream",
     "text": [
      "Loads checkpoint by local backend from path: checkpoints/rtmdet_tiny_ear_epoch_200_20230614.pth\n",
      "06/14 16:33:16 - mmengine - \u001b[5m\u001b[4m\u001b[33mWARNING\u001b[0m - Failed to search registry with scope \"mmdet\" in the \"function\" registry tree. As a workaround, the current \"function\" registry in \"mmengine\" is used to build instance. This may cause unexpected failure when running the built modules. Please check whether \"mmdet\" is a correct scope, or whether the registry is initialized.\n",
      "06/14 16:33:16 - mmengine - \u001b[5m\u001b[4m\u001b[33mWARNING\u001b[0m - `Visualizer` backend is not initialized because save_dir is None.\n",
      "\n",
      "Inference ----------------------------------------   \n",
      "Inference ----------------------------------------   \n",
      "Inference ----------------------------------------   \n",
      "Inference ----------------------------------------   \n",
      "Inference ----------------------------------------   \n",
      "Inference ----------------------------------------   \n",
      "Inference ----------------------------------------   \n",
      "Inference ----------------------------------------   \n",
      "Inference ----------------------------------------   \n",
      "Inference ----------------------------------------   \n",
      "Inference ----------------------------------------   \n",
      "Inference ----------------------------------------   \n",
      "Inference ----------------------------------------   \n",
      "Inference ----------------------------------------   \n",
      "Inference ----------------------------------------   \n",
      "Inference ----------------------------------------   \n",
      "Inference ----------------------------------------   \n",
      "Inference ----------------------------------------   \n",
      "Inference ----------------------------------------   \n",
      "Inference ----------------------------------------   \n",
      "Inference ----------------------------------------   \n",
      "Inference ----------------------------------------   \n",
      "Inference ----------------------------------------   \n",
      "d:\\miniconda\\envs\\openmmlab\\lib\\site-packages\\torch\\functional.py:504: \n",
      "UserWarning: torch.meshgrid: in an upcoming release, it will be required to \n",
      "pass the indexing argument. (Triggered internally at \n",
      "C:\\actions-runner\\_work\\pytorch\\pytorch\\builder\\windows\\pytorch\\aten\\src\\ATen\\n\n",
      "ative\\TensorShape.cpp:3484.)\n",
      "  return _VF.meshgrid(tensors, **kwargs)  # type: ignore[attr-defined]\n",
      "Inference ----------------------------------------   \n",
      "Inference ----------------------------------------   \n",
      "Inference ----------------------------------------   \n",
      "d:\\miniconda\\envs\\openmmlab\\lib\\site-packages\\mmengine\\visualization\\visualizer\n",
      ".py:757: UserWarning: Warning: The bbox is out of bounds, the drawn bbox may \n",
      "not be in the image\n",
      "  warnings.warn(\n",
      "Inference ----------------------------------------   \n",
      "d:\\miniconda\\envs\\openmmlab\\lib\\site-packages\\mmengine\\visualization\\visualizer\n",
      ".py:828: UserWarning: Warning: The polygon is out of bounds, the drawn polygon \n",
      "may not be in the image\n",
      "  warnings.warn(\n",
      "Inference ----------------------------------------   \n",
      "Inference ----------------------------------------   \n",
      "Inference ----------------------------------------   \n",
      "Inference ----------------------------------------   \n",
      "Inference ----------------------------------------   \n",
      "results have been saved at outputs/E2_rtmdet\n"
     ]
    }
   ],
   "source": [
    "# RTMDet\n",
    "!python demo/image_demo.py \\\n",
    "        data/test_ear/ear_images.jpg \\\n",
    "        data/rtmdet_tiny_ear.py \\\n",
    "        --weights checkpoints/rtmdet_tiny_ear_epoch_200_20230614.pth \\\n",
    "        --out-dir outputs/E2_rtmdet \\\n",
    "        --device cuda:0 \\\n",
    "        --pred-score-thr 0.3"
   ]
  },
  {
   "cell_type": "code",
   "execution_count": null,
   "id": "55905481-5943-4871-a456-fb6def0c5146",
   "metadata": {},
   "outputs": [],
   "source": []
  }
 ],
 "metadata": {
  "kernelspec": {
   "display_name": "Python 3 (ipykernel)",
   "language": "python",
   "name": "python3"
  },
  "language_info": {
   "codemirror_mode": {
    "name": "ipython",
    "version": 3
   },
   "file_extension": ".py",
   "mimetype": "text/x-python",
   "name": "python",
   "nbconvert_exporter": "python",
   "pygments_lexer": "ipython3",
   "version": "3.8.16"
  }
 },
 "nbformat": 4,
 "nbformat_minor": 5
}
