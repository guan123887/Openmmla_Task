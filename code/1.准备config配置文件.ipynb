{
 "cells": [
  {
   "attachments": {},
   "cell_type": "markdown",
   "metadata": {},
   "source": [
    "# 准备config配置文件\n",
    "\n",
    "同济子豪兄 2023-2-13 6-11"
   ]
  },
  {
   "attachments": {},
   "cell_type": "markdown",
   "metadata": {
    "tags": []
   },
   "source": [
    "## 进入MMSegmentation主目录"
   ]
  },
  {
   "cell_type": "code",
   "execution_count": 1,
   "metadata": {},
   "outputs": [
    {
     "name": "stderr",
     "output_type": "stream",
     "text": [
      "Cloning into 'mmsegmentation'...\n",
      "Updating files:   8% (121/1461)\n",
      "Updating files:   9% (132/1461)\n",
      "Updating files:  10% (147/1461)\n",
      "Updating files:  11% (161/1461)\n",
      "Updating files:  12% (176/1461)\n",
      "Updating files:  13% (190/1461)\n",
      "Updating files:  14% (205/1461)\n",
      "Updating files:  15% (220/1461)\n",
      "Updating files:  16% (234/1461)\n",
      "Updating files:  17% (249/1461)\n",
      "Updating files:  18% (263/1461)\n",
      "Updating files:  19% (278/1461)\n",
      "Updating files:  20% (293/1461)\n",
      "Updating files:  21% (307/1461)\n",
      "Updating files:  22% (322/1461)\n",
      "Updating files:  22% (335/1461)\n",
      "Updating files:  23% (337/1461)\n",
      "Updating files:  24% (351/1461)\n",
      "Updating files:  25% (366/1461)\n",
      "Updating files:  26% (380/1461)\n",
      "Updating files:  27% (395/1461)\n",
      "Updating files:  28% (410/1461)\n",
      "Updating files:  29% (424/1461)\n",
      "Updating files:  30% (439/1461)\n",
      "Updating files:  31% (453/1461)\n",
      "Updating files:  32% (468/1461)\n",
      "Updating files:  33% (483/1461)\n",
      "Updating files:  34% (497/1461)\n",
      "Updating files:  35% (512/1461)\n",
      "Updating files:  36% (526/1461)\n",
      "Updating files:  37% (541/1461)\n",
      "Updating files:  38% (556/1461)\n",
      "Updating files:  39% (570/1461)\n",
      "Updating files:  40% (585/1461)\n",
      "Updating files:  41% (600/1461)\n",
      "Updating files:  42% (614/1461)\n",
      "Updating files:  43% (629/1461)\n",
      "Updating files:  44% (643/1461)\n",
      "Updating files:  45% (658/1461)\n",
      "Updating files:  46% (673/1461)\n",
      "Updating files:  47% (687/1461)\n",
      "Updating files:  48% (702/1461)\n",
      "Updating files:  49% (716/1461)\n",
      "Updating files:  50% (731/1461)\n",
      "Updating files:  51% (746/1461)\n",
      "Updating files:  52% (760/1461)\n",
      "Updating files:  53% (775/1461)\n",
      "Updating files:  54% (789/1461)\n",
      "Updating files:  55% (804/1461)\n",
      "Updating files:  56% (819/1461)\n",
      "Updating files:  57% (833/1461)\n",
      "Updating files:  58% (848/1461)\n",
      "Updating files:  59% (862/1461)\n",
      "Updating files:  60% (877/1461)\n",
      "Updating files:  60% (888/1461)\n",
      "Updating files:  61% (892/1461)\n",
      "Updating files:  62% (906/1461)\n",
      "Updating files:  63% (921/1461)\n",
      "Updating files:  64% (936/1461)\n",
      "Updating files:  65% (950/1461)\n",
      "Updating files:  66% (965/1461)\n",
      "Updating files:  67% (979/1461)\n",
      "Updating files:  68% (994/1461)\n",
      "Updating files:  69% (1009/1461)\n",
      "Updating files:  70% (1023/1461)\n",
      "Updating files:  71% (1038/1461)\n",
      "Updating files:  72% (1052/1461)\n",
      "Updating files:  73% (1067/1461)\n",
      "Updating files:  74% (1082/1461)\n",
      "Updating files:  75% (1096/1461)\n",
      "Updating files:  76% (1111/1461)\n",
      "Updating files:  77% (1125/1461)\n",
      "Updating files:  78% (1140/1461)\n",
      "Updating files:  79% (1155/1461)\n",
      "Updating files:  80% (1169/1461)\n",
      "Updating files:  81% (1184/1461)\n",
      "Updating files:  82% (1199/1461)\n",
      "Updating files:  82% (1205/1461)\n",
      "Updating files:  83% (1213/1461)\n",
      "Updating files:  84% (1228/1461)\n",
      "Updating files:  85% (1242/1461)\n",
      "Updating files:  86% (1257/1461)\n",
      "Updating files:  87% (1272/1461)\n",
      "Updating files:  88% (1286/1461)\n",
      "Updating files:  89% (1301/1461)\n",
      "Updating files:  90% (1315/1461)\n",
      "Updating files:  91% (1330/1461)\n",
      "Updating files:  92% (1345/1461)\n",
      "Updating files:  93% (1359/1461)\n",
      "Updating files:  94% (1374/1461)\n",
      "Updating files:  95% (1388/1461)\n",
      "Updating files:  96% (1403/1461)\n",
      "Updating files:  97% (1418/1461)\n",
      "Updating files:  98% (1432/1461)\n",
      "Updating files:  99% (1447/1461)\n",
      "Updating files: 100% (1461/1461)\n",
      "Updating files: 100% (1461/1461), done.\n"
     ]
    }
   ],
   "source": [
    "# 从 github 上下载最新的 mmsegmentation 源代码\n",
    "!git clone https://github.com/open-mmlab/mmsegmentation.git -b dev-1.x"
   ]
  },
  {
   "cell_type": "code",
   "execution_count": 1,
   "metadata": {},
   "outputs": [],
   "source": [
    "import os\n",
    "os.chdir('../mmsegmentation')"
   ]
  },
  {
   "cell_type": "code",
   "execution_count": 2,
   "metadata": {},
   "outputs": [
    {
     "data": {
      "text/plain": [
       "'f:\\\\C_TRANSFER\\\\AI\\\\AI_demo\\\\DL\\\\openmmlab\\\\OpenMMlab_task4\\\\提交文件\\\\mmsegmentation'"
      ]
     },
     "execution_count": 2,
     "metadata": {},
     "output_type": "execute_result"
    }
   ],
   "source": [
    "os.getcwd()"
   ]
  },
  {
   "attachments": {},
   "cell_type": "markdown",
   "metadata": {},
   "source": [
    "## 导入工具包"
   ]
  },
  {
   "cell_type": "code",
   "execution_count": 3,
   "metadata": {
    "colab": {
     "base_uri": "https://localhost:8080/"
    },
    "id": "mAE_h7XhPT7d",
    "outputId": "83bf0f8e-fc69-40b1-f9fe-0025724a217c"
   },
   "outputs": [],
   "source": [
    "import numpy as np\n",
    "from PIL import Image\n",
    "\n",
    "import os.path as osp\n",
    "from tqdm import tqdm\n",
    "\n",
    "import mmcv\n",
    "import mmengine\n",
    "import matplotlib.pyplot as plt\n",
    "%matplotlib inline"
   ]
  },
  {
   "attachments": {},
   "cell_type": "markdown",
   "metadata": {},
   "source": [
    "## 定义数据集类（各类别名称及配色）"
   ]
  },
  {
   "cell_type": "code",
   "execution_count": 4,
   "metadata": {},
   "outputs": [
    {
     "name": "stderr",
     "output_type": "stream",
     "text": [
      "'rm' �����ڲ����ⲿ���Ҳ���ǿ����еĳ���\n",
      "���������ļ���\n",
      "--2023-06-16 22:43:11--  https://zihao-openmmlab.obs.cn-east-3.myhuaweicloud.com/20230130-mmseg/Dubai/DubaiDataset.py\n",
      "Resolving zihao-openmmlab.obs.cn-east-3.myhuaweicloud.com (zihao-openmmlab.obs.cn-east-3.myhuaweicloud.com)... 121.36.235.132\n",
      "Connecting to zihao-openmmlab.obs.cn-east-3.myhuaweicloud.com (zihao-openmmlab.obs.cn-east-3.myhuaweicloud.com)|121.36.235.132|:443... connected.\n",
      "HTTP request sent, awaiting response... 200 OK\n",
      "Length: 867 [binary/octet-stream]\n",
      "Saving to: 'mmseg/datasets/DubaiDataset.py'\n",
      "\n",
      "     0K                                                       100%  809K=0.001s\n",
      "\n",
      "2023-06-16 22:43:11 (809 KB/s) - 'mmseg/datasets/DubaiDataset.py' saved [867/867]\n",
      "\n"
     ]
    }
   ],
   "source": [
    "!rm -rf mmseg/datasets/DubaiDataset.py # 删除原有文件\n",
    "!wget https://zihao-openmmlab.obs.cn-east-3.myhuaweicloud.com/20230130-mmseg/Dubai/DubaiDataset.py -P mmseg/datasets\n"
   ]
  },
  {
   "attachments": {},
   "cell_type": "markdown",
   "metadata": {},
   "source": [
    "## 注册数据集类"
   ]
  },
  {
   "cell_type": "code",
   "execution_count": 5,
   "metadata": {},
   "outputs": [
    {
     "name": "stderr",
     "output_type": "stream",
     "text": [
      "'rm' �����ڲ����ⲿ���Ҳ���ǿ����еĳ���\n",
      "���������ļ���\n",
      "--2023-06-16 22:43:12--  https://zihao-openmmlab.obs.cn-east-3.myhuaweicloud.com/20230130-mmseg/Dubai/__init__.py\n",
      "Resolving zihao-openmmlab.obs.cn-east-3.myhuaweicloud.com (zihao-openmmlab.obs.cn-east-3.myhuaweicloud.com)... 121.36.235.132\n",
      "Connecting to zihao-openmmlab.obs.cn-east-3.myhuaweicloud.com (zihao-openmmlab.obs.cn-east-3.myhuaweicloud.com)|121.36.235.132|:443... connected.\n",
      "HTTP request sent, awaiting response... 200 OK\n",
      "Length: 2620 (2.6K) [binary/octet-stream]\n",
      "Saving to: 'mmseg/datasets/__init__.py.1'\n",
      "\n",
      "     0K ..                                                    100%  143M=0s\n",
      "\n",
      "2023-06-16 22:43:12 (143 MB/s) - 'mmseg/datasets/__init__.py.1' saved [2620/2620]\n",
      "\n"
     ]
    }
   ],
   "source": [
    "!rm -rf mmseg/datasets/__init__.py # 删除原有文件\n",
    "!wget https://zihao-openmmlab.obs.cn-east-3.myhuaweicloud.com/20230130-mmseg/Dubai/__init__.py -P mmseg/datasets"
   ]
  },
  {
   "attachments": {},
   "cell_type": "markdown",
   "metadata": {},
   "source": [
    "## 定义训练及测试pipeline"
   ]
  },
  {
   "cell_type": "code",
   "execution_count": 6,
   "metadata": {},
   "outputs": [
    {
     "name": "stderr",
     "output_type": "stream",
     "text": [
      "'rm' �����ڲ����ⲿ���Ҳ���ǿ����еĳ���\n",
      "���������ļ���\n",
      "--2023-06-16 22:43:12--  https://zihao-openmmlab.obs.cn-east-3.myhuaweicloud.com/20230130-mmseg/Dubai/DubaiDataset_pipeline.py\n",
      "Resolving zihao-openmmlab.obs.cn-east-3.myhuaweicloud.com (zihao-openmmlab.obs.cn-east-3.myhuaweicloud.com)... 121.36.235.132\n",
      "Connecting to zihao-openmmlab.obs.cn-east-3.myhuaweicloud.com (zihao-openmmlab.obs.cn-east-3.myhuaweicloud.com)|121.36.235.132|:443... connected.\n",
      "HTTP request sent, awaiting response... 200 OK\n",
      "Length: 2268 (2.2K) [binary/octet-stream]\n",
      "Saving to: 'configs/_base_/datasets/DubaiDataset_pipeline.py'\n",
      "\n",
      "     0K ..                                                    100%  122M=0s\n",
      "\n",
      "2023-06-16 22:43:12 (122 MB/s) - 'configs/_base_/datasets/DubaiDataset_pipeline.py' saved [2268/2268]\n",
      "\n"
     ]
    }
   ],
   "source": [
    "!rm -rf configs/_base_/datasets/DubaiDataset_pipeline.py\n",
    "!wget https://zihao-openmmlab.obs.cn-east-3.myhuaweicloud.com/20230130-mmseg/Dubai/DubaiDataset_pipeline.py -P configs/_base_/datasets\n"
   ]
  },
  {
   "attachments": {},
   "cell_type": "markdown",
   "metadata": {
    "id": "yUVtmn3Iq3WA"
   },
   "source": [
    "## 下载模型config配置文件"
   ]
  },
  {
   "cell_type": "code",
   "execution_count": 7,
   "metadata": {},
   "outputs": [
    {
     "name": "stderr",
     "output_type": "stream",
     "text": [
      "'rm' �����ڲ����ⲿ���Ҳ���ǿ����еĳ���\n",
      "���������ļ���\n",
      "--2023-06-16 22:43:12--  https://zihao-openmmlab.obs.cn-east-3.myhuaweicloud.com/20230130-mmseg/Dubai/pspnet_r50-d8_4xb2-40k_DubaiDataset.py\n",
      "Resolving zihao-openmmlab.obs.cn-east-3.myhuaweicloud.com (zihao-openmmlab.obs.cn-east-3.myhuaweicloud.com)... 121.36.235.132\n",
      "Connecting to zihao-openmmlab.obs.cn-east-3.myhuaweicloud.com (zihao-openmmlab.obs.cn-east-3.myhuaweicloud.com)|121.36.235.132|:443... connected.\n",
      "HTTP request sent, awaiting response... 200 OK\n",
      "Length: 344 [binary/octet-stream]\n",
      "Saving to: 'configs/pspnet/pspnet_r50-d8_4xb2-40k_DubaiDataset.py'\n",
      "\n",
      "     0K                                                       100% 19.5M=0s\n",
      "\n",
      "2023-06-16 22:43:12 (19.5 MB/s) - 'configs/pspnet/pspnet_r50-d8_4xb2-40k_DubaiDataset.py' saved [344/344]\n",
      "\n"
     ]
    }
   ],
   "source": [
    "!rm -rf configs/pspnet/pspnet_r50-d8_4xb2-40k_DubaiDataset.py # 删除原有文件\n",
    "!wget https://zihao-openmmlab.obs.cn-east-3.myhuaweicloud.com/20230130-mmseg/Dubai/pspnet_r50-d8_4xb2-40k_DubaiDataset.py -P configs/pspnet \n"
   ]
  },
  {
   "attachments": {},
   "cell_type": "markdown",
   "metadata": {},
   "source": [
    "## 载入config配置文件"
   ]
  },
  {
   "cell_type": "code",
   "execution_count": 8,
   "metadata": {
    "id": "Wwnj9tRzqX_A"
   },
   "outputs": [],
   "source": [
    "from mmengine import Config\n",
    "cfg = Config.fromfile('./configs/pspnet/pspnet_r50-d8_4xb2-40k_DubaiDataset.py')"
   ]
  },
  {
   "attachments": {},
   "cell_type": "markdown",
   "metadata": {},
   "source": [
    "## 修改config配置文件"
   ]
  },
  {
   "cell_type": "code",
   "execution_count": 9,
   "metadata": {
    "colab": {
     "base_uri": "https://localhost:8080/"
    },
    "id": "eyKnYC1Z7iCV",
    "outputId": "6195217b-187f-4675-994b-ba90d8bb3078"
   },
   "outputs": [],
   "source": [
    "cfg.norm_cfg = dict(type='BN', requires_grad=True) # 只使用GPU时，BN取代SyncBN\n",
    "cfg.crop_size = (256, 256)\n",
    "cfg.model.data_preprocessor.size = cfg.crop_size\n",
    "cfg.model.backbone.norm_cfg = cfg.norm_cfg\n",
    "cfg.model.decode_head.norm_cfg = cfg.norm_cfg\n",
    "cfg.model.auxiliary_head.norm_cfg = cfg.norm_cfg\n",
    "# modify num classes of the model in decode/auxiliary head\n",
    "\n",
    "# 模型 decode/auxiliary 输出头，指定为类别个数\n",
    "cfg.model.decode_head.num_classes = 6\n",
    "cfg.model.auxiliary_head.num_classes = 6\n",
    "\n",
    "cfg.train_dataloader.batch_size = 8\n",
    "\n",
    "cfg.test_dataloader = cfg.val_dataloader\n",
    "\n",
    "# 结果保存目录\n",
    "cfg.work_dir = './work_dirs/'\n",
    "\n",
    "# 训练迭代次数\n",
    "cfg.train_cfg.max_iters = 3000\n",
    "# 评估模型间隔\n",
    "cfg.train_cfg.val_interval = 400\n",
    "# 日志记录间隔\n",
    "cfg.default_hooks.logger.interval = 100\n",
    "# 模型权重保存间隔\n",
    "cfg.default_hooks.checkpoint.interval = 1500\n",
    "\n",
    "# 随机数种子\n",
    "cfg['randomness'] = dict(seed=0)"
   ]
  },
  {
   "attachments": {},
   "cell_type": "markdown",
   "metadata": {},
   "source": [
    "## 查看完整config配置文件"
   ]
  },
  {
   "cell_type": "code",
   "execution_count": 10,
   "metadata": {},
   "outputs": [],
   "source": [
    "# print(cfg.pretty_text)"
   ]
  },
  {
   "attachments": {},
   "cell_type": "markdown",
   "metadata": {},
   "source": [
    "## 保存config配置文件"
   ]
  },
  {
   "cell_type": "code",
   "execution_count": 11,
   "metadata": {},
   "outputs": [],
   "source": [
    "cfg.dump('pspnet-DubaiDataset_20230612.py')"
   ]
  },
  {
   "cell_type": "code",
   "execution_count": null,
   "metadata": {},
   "outputs": [],
   "source": []
  }
 ],
 "metadata": {
  "accelerator": "GPU",
  "colab": {
   "collapsed_sections": [],
   "include_colab_link": true,
   "name": "MMSegmentation Tutorial.ipynb",
   "provenance": []
  },
  "kernelspec": {
   "display_name": "Python 3 (ipykernel)",
   "language": "python",
   "name": "python3"
  },
  "language_info": {
   "codemirror_mode": {
    "name": "ipython",
    "version": 3
   },
   "file_extension": ".py",
   "mimetype": "text/x-python",
   "name": "python",
   "nbconvert_exporter": "python",
   "pygments_lexer": "ipython3",
   "version": "3.8.16"
  },
  "pycharm": {
   "stem_cell": {
    "cell_type": "raw",
    "metadata": {
     "collapsed": false
    },
    "source": []
   }
  },
  "vscode": {
   "interpreter": {
    "hash": "20d4b83e0c8b3730b580c42434163d64f4b735d580303a8fade7c849d4d29eba"
   }
  }
 },
 "nbformat": 4,
 "nbformat_minor": 4
}
