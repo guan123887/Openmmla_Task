{
 "cells": [
  {
   "cell_type": "code",
   "execution_count": 3,
   "metadata": {},
   "outputs": [
    {
     "name": "stdout",
     "output_type": "stream",
     "text": [
      "Loads checkpoint by local backend from path: ../mmpretrain/exp/epoch_100.pth\n"
     ]
    },
    {
     "data": {
      "text/html": [
       "<pre style=\"white-space:pre;overflow-x:auto;line-height:normal;font-family:Menlo,'DejaVu Sans Mono',consolas,'Courier New',monospace\"></pre>\n"
      ],
      "text/plain": []
     },
     "metadata": {},
     "output_type": "display_data"
    },
    {
     "data": {
      "text/plain": [
       "[{'pred_scores': array([1.16348645e-04, 2.70098644e-05, 4.91687751e-06, 1.12356483e-05,\n",
       "         7.09430533e-05, 1.96859855e-02, 2.18874845e-07, 1.89030416e-05,\n",
       "         2.04115850e-06, 3.67511250e-03, 3.40751430e-04, 1.53683079e-03,\n",
       "         2.18606466e-08, 6.46109220e-06, 8.34886382e-09, 1.47000494e-04,\n",
       "         1.21166818e-01, 1.49663782e-03, 7.13731497e-05, 1.75393268e-06,\n",
       "         1.24217399e-06, 1.55873295e-07, 5.49148861e-03, 1.21910765e-03,\n",
       "         5.52312440e-06, 5.71332203e-05, 1.12777506e-07, 6.24823006e-05,\n",
       "         8.44705403e-01, 7.70330735e-05], dtype=float32),\n",
       "  'pred_label': 28,\n",
       "  'pred_score': 0.8447054028511047,\n",
       "  'pred_class': '香蕉'}]"
      ]
     },
     "execution_count": 3,
     "metadata": {},
     "output_type": "execute_result"
    }
   ],
   "source": [
    "from mmpretrain import ImageClassificationInferencer\n",
    "image = './banana.jpg'\n",
    "inferencer = ImageClassificationInferencer('./resnet50_finetune.py', pretrained='../mmpretrain/exp/epoch_100.pth')\n",
    "inferencer(image, show=True)"
   ]
  },
  {
   "cell_type": "code",
   "execution_count": null,
   "metadata": {},
   "outputs": [],
   "source": []
  }
 ],
 "metadata": {
  "kernelspec": {
   "display_name": "openmmlab",
   "language": "python",
   "name": "python3"
  },
  "language_info": {
   "codemirror_mode": {
    "name": "ipython",
    "version": 3
   },
   "file_extension": ".py",
   "mimetype": "text/x-python",
   "name": "python",
   "nbconvert_exporter": "python",
   "pygments_lexer": "ipython3",
   "version": "3.8.16"
  },
  "orig_nbformat": 4
 },
 "nbformat": 4,
 "nbformat_minor": 2
}
