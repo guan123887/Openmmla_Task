{
 "cells": [
  {
   "attachments": {},
   "cell_type": "markdown",
   "id": "8fdee633-9014-4d6b-ada0-5acf62f7228a",
   "metadata": {},
   "source": [
    "# 图生图-ControlNet-Canny\n",
    "\n",
    "同济子豪兄 2023-6-13\n",
    "\n",
    "MMagic文档：https://github.com/open-mmlab/mmagic/tree/main/configs/controlnet\n",
    "\n",
    "ControlNet官方Repo：https://github.com/lllyasviel/ControlNet"
   ]
  },
  {
   "attachments": {},
   "cell_type": "markdown",
   "id": "c31719b7-dee2-4df3-b1c3-566b10cfe8e1",
   "metadata": {},
   "source": [
    "## 进入 MMagic 主目录"
   ]
  },
  {
   "cell_type": "code",
   "execution_count": 1,
   "id": "560af927-513e-4b12-8d80-d1e963cdf914",
   "metadata": {},
   "outputs": [],
   "source": [
    "import os\n",
    "os.chdir('../mmagic')"
   ]
  },
  {
   "attachments": {},
   "cell_type": "markdown",
   "id": "47c326ac-cb9e-4f74-86fc-4fd005ecde1a",
   "metadata": {
    "tags": []
   },
   "source": [
    "## 导入工具包"
   ]
  },
  {
   "cell_type": "code",
   "execution_count": 2,
   "id": "6c20e460-2c2c-4fbb-b36d-b0432cd3dcb9",
   "metadata": {},
   "outputs": [],
   "source": [
    "import cv2\n",
    "import numpy as np\n",
    "import mmcv\n",
    "from mmengine import Config\n",
    "from PIL import Image\n",
    "\n",
    "from mmagic.registry import MODELS\n",
    "from mmagic.utils import register_all_modules\n",
    "\n",
    "register_all_modules()"
   ]
  },
  {
   "attachments": {},
   "cell_type": "markdown",
   "id": "a7576099-c20b-4a1b-9048-c45660bfec1c",
   "metadata": {},
   "source": [
    "## 载入ControlNet模型"
   ]
  },
  {
   "cell_type": "code",
   "execution_count": null,
   "id": "8518a546-32bb-4456-84cb-c3618d2fae8e",
   "metadata": {},
   "outputs": [
    {
     "name": "stdout",
     "output_type": "stream",
     "text": [
      "06/19 16:46:23 - mmengine - \u001b[4m\u001b[97mINFO\u001b[0m - Set model dtype to 'torch.float32'.\n",
      "06/19 16:46:25 - mmengine - \u001b[4m\u001b[97mINFO\u001b[0m - Creating runwayml/stable-diffusion-v1-5 by 'HuggingFace'\n"
     ]
    },
    {
     "name": "stderr",
     "output_type": "stream",
     "text": [
      "f:\\C_TRANSFER\\AI\\AI_demo\\DL\\openmmlab\\OpenMMlab_task5\\mmagic\\mmagic\\models\\archs\\wrapper.py:149: FutureWarning: Accessing config attribute `block_out_channels` directly via 'AutoencoderKL' object attribute is deprecated. Please access 'block_out_channels' over 'AutoencoderKL's config object instead, e.g. 'unet.config.block_out_channels'.\n",
      "  return getattr(self.model, name)\n"
     ]
    },
    {
     "name": "stdout",
     "output_type": "stream",
     "text": [
      "Do not support Xformers. Please install Xformers first. The program will run without Xformers.\n"
     ]
    },
    {
     "data": {
      "application/vnd.jupyter.widget-view+json": {
       "model_id": "3748a3ce55064dad854bbe0438295c8f",
       "version_major": 2,
       "version_minor": 0
      },
      "text/plain": [
       "Downloading (…)lve/main/config.json:   0%|          | 0.00/920 [00:00<?, ?B/s]"
      ]
     },
     "metadata": {},
     "output_type": "display_data"
    },
    {
     "data": {
      "application/vnd.jupyter.widget-view+json": {
       "model_id": "5f1d5c606a59464fbae7114b064450aa",
       "version_major": 2,
       "version_minor": 0
      },
      "text/plain": [
       "Downloading (…)ch_model.safetensors:   0%|          | 0.00/1.45G [00:00<?, ?B/s]"
      ]
     },
     "metadata": {},
     "output_type": "display_data"
    },
    {
     "name": "stdout",
     "output_type": "stream",
     "text": [
      "06/19 16:48:14 - mmengine - \u001b[4m\u001b[97mINFO\u001b[0m - Set model dtype to 'torch.float32'.\n",
      "Do not support Xformers. Please install Xformers first. The program will run without Xformers.\n"
     ]
    }
   ],
   "source": [
    "cfg = Config.fromfile('configs/controlnet/controlnet-canny.py')\n",
    "controlnet = MODELS.build(cfg.model).cuda()"
   ]
  },
  {
   "attachments": {},
   "cell_type": "markdown",
   "id": "4c3b870a-bb9d-42b3-88d2-2ed28f306788",
   "metadata": {},
   "source": [
    "## 输入Canny边缘图"
   ]
  },
  {
   "cell_type": "code",
   "execution_count": 4,
   "id": "7c0fe370-83b4-4802-a3d6-9e562b3d4117",
   "metadata": {},
   "outputs": [],
   "source": [
    "control_url = 'house.jpeg'\n",
    "control_img = mmcv.imread(control_url)\n",
    "control = cv2.Canny(control_img, 100, 200)\n",
    "control = control[:, :, None]\n",
    "control = np.concatenate([control] * 3, axis=2)\n",
    "control = Image.fromarray(control)"
   ]
  },
  {
   "cell_type": "code",
   "execution_count": 5,
   "id": "e4bc31da-1761-4345-9286-a9c0aef7e027",
   "metadata": {},
   "outputs": [],
   "source": [
    "# control"
   ]
  },
  {
   "attachments": {},
   "cell_type": "markdown",
   "id": "2e877871-65b3-4138-9c86-0ed53573c2a3",
   "metadata": {},
   "source": [
    "## 咒语Prompt"
   ]
  },
  {
   "cell_type": "code",
   "execution_count": 6,
   "id": "bc0f5065-86d2-49dd-82bc-bd4c78d5f366",
   "metadata": {},
   "outputs": [],
   "source": [
    "prompt = 'Room with blue walls and a yellow ceiling.'"
   ]
  },
  {
   "attachments": {},
   "cell_type": "markdown",
   "id": "b09e0ec1-13ae-4cc6-85ea-c7c43e5378f9",
   "metadata": {},
   "source": [
    "## 执行预测"
   ]
  },
  {
   "cell_type": "code",
   "execution_count": 7,
   "id": "c58640b1-548b-4df2-b137-39a84108c899",
   "metadata": {},
   "outputs": [],
   "source": [
    "output_dict = controlnet.infer(prompt, control=control)\n",
    "samples = output_dict['samples']\n",
    "for idx, sample in enumerate(samples):\n",
    "    sample.save(f'sample_{idx}.png')\n",
    "controls = output_dict['controls']\n",
    "for idx, control in enumerate(controls):\n",
    "    control.save(f'control_{idx}.png')"
   ]
  },
  {
   "cell_type": "code",
   "execution_count": null,
   "id": "71e39a40-c5ed-4496-b58d-d109f410b586",
   "metadata": {},
   "outputs": [],
   "source": []
  }
 ],
 "metadata": {
  "kernelspec": {
   "display_name": "Python 3 (ipykernel)",
   "language": "python",
   "name": "python3"
  },
  "language_info": {
   "codemirror_mode": {
    "name": "ipython",
    "version": 3
   },
   "file_extension": ".py",
   "mimetype": "text/x-python",
   "name": "python",
   "nbconvert_exporter": "python",
   "pygments_lexer": "ipython3",
   "version": "3.8.16"
  }
 },
 "nbformat": 4,
 "nbformat_minor": 5
}
